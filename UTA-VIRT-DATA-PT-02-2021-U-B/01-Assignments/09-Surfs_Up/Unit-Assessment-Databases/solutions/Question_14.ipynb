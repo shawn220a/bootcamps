{
  "cells": [
    {
      "cell_type": "code",
      "source": [
        "from sqlalchemy import create_engine\n",
        "import pandas as pd"
      ],
      "outputs": [],
      "execution_count": 1,
      "metadata": {}
    },
    {
      "cell_type": "code",
      "source": [
        "# Path to sqlite, THIS MAY NOT MATCH YOUR PATH\n",
        "database_path = \"../resources/Census_Data.sqlite\"\n",
        "\n",
        "# Create an engine that can talk to the database\n",
        "engine = create_engine(f\"sqlite:///{database_path}\")\n",
        "conn = engine.connect()"
      ],
      "outputs": [],
      "execution_count": 2,
      "metadata": {}
    },
    {
      "cell_type": "code",
      "source": [
        "census_data_df = pd.read_sql(\"SELECT * FROM Census_Data\", conn)\n",
        "census_data_df.head()"
      ],
      "outputs": [
        {
          "output_type": "execute_result",
          "execution_count": 3,
          "data": {
            "text/html": "<div>\n<style scoped>\n    .dataframe tbody tr th:only-of-type {\n        vertical-align: middle;\n    }\n\n    .dataframe tbody tr th {\n        vertical-align: top;\n    }\n\n    .dataframe thead th {\n        text-align: right;\n    }\n</style>\n<table border=\"1\" class=\"dataframe\">\n  <thead>\n    <tr style=\"text-align: right;\">\n      <th></th>\n      <th>CityState</th>\n      <th>city</th>\n      <th>state</th>\n      <th>Population</th>\n      <th>White Population</th>\n      <th>Black Population</th>\n      <th>Native American Population</th>\n      <th>Asian Population</th>\n      <th>Hispanic Population</th>\n      <th>Education None</th>\n      <th>...</th>\n      <th>Employment Female Computer Engineering</th>\n      <th>Median Age</th>\n      <th>Median Male Age</th>\n      <th>Median Female Age</th>\n      <th>Household Income</th>\n      <th>Income Per Capita</th>\n      <th>Median Gross Rent</th>\n      <th>Median Home Value</th>\n      <th>lat</th>\n      <th>lng</th>\n    </tr>\n  </thead>\n  <tbody>\n    <tr>\n      <th>0</th>\n      <td>HOUSTON, TX</td>\n      <td>HOUSTON</td>\n      <td>TX</td>\n      <td>3061887</td>\n      <td>1775897</td>\n      <td>684416</td>\n      <td>11586</td>\n      <td>230549</td>\n      <td>1368287</td>\n      <td>54180</td>\n      <td>...</td>\n      <td>22637</td>\n      <td>33.439583</td>\n      <td>32.550000</td>\n      <td>34.363542</td>\n      <td>56206.50000</td>\n      <td>32239.52083</td>\n      <td>956.708333</td>\n      <td>178233.6842</td>\n      <td>29.775734</td>\n      <td>-95.414548</td>\n    </tr>\n    <tr>\n      <th>1</th>\n      <td>CHICAGO, IL</td>\n      <td>CHICAGO</td>\n      <td>IL</td>\n      <td>2702091</td>\n      <td>1318869</td>\n      <td>843633</td>\n      <td>7554</td>\n      <td>161478</td>\n      <td>785374</td>\n      <td>32800</td>\n      <td>...</td>\n      <td>18209</td>\n      <td>34.526786</td>\n      <td>33.798214</td>\n      <td>35.141071</td>\n      <td>57735.96429</td>\n      <td>38730.83929</td>\n      <td>1119.928571</td>\n      <td>264739.2857</td>\n      <td>41.867838</td>\n      <td>-87.673440</td>\n    </tr>\n    <tr>\n      <th>2</th>\n      <td>BROOKLYN, NY</td>\n      <td>BROOKLYN</td>\n      <td>NY</td>\n      <td>2595259</td>\n      <td>1126111</td>\n      <td>870465</td>\n      <td>8744</td>\n      <td>297890</td>\n      <td>509243</td>\n      <td>48934</td>\n      <td>...</td>\n      <td>14845</td>\n      <td>35.175676</td>\n      <td>33.367568</td>\n      <td>36.578378</td>\n      <td>51469.18919</td>\n      <td>28309.67568</td>\n      <td>1261.783784</td>\n      <td>605743.2432</td>\n      <td>40.652805</td>\n      <td>-73.956528</td>\n    </tr>\n    <tr>\n      <th>3</th>\n      <td>LOS ANGELES, CA</td>\n      <td>LOS ANGELES</td>\n      <td>CA</td>\n      <td>2426413</td>\n      <td>1068202</td>\n      <td>324842</td>\n      <td>15949</td>\n      <td>273829</td>\n      <td>1292382</td>\n      <td>62684</td>\n      <td>...</td>\n      <td>12329</td>\n      <td>35.335484</td>\n      <td>34.535484</td>\n      <td>36.061290</td>\n      <td>47494.58333</td>\n      <td>30073.19355</td>\n      <td>1201.766667</td>\n      <td>557115.0000</td>\n      <td>34.042209</td>\n      <td>-118.303468</td>\n    </tr>\n    <tr>\n      <th>4</th>\n      <td>MIAMI, FL</td>\n      <td>MIAMI</td>\n      <td>FL</td>\n      <td>1820704</td>\n      <td>1361009</td>\n      <td>363514</td>\n      <td>2250</td>\n      <td>33144</td>\n      <td>1162711</td>\n      <td>27137</td>\n      <td>...</td>\n      <td>6969</td>\n      <td>38.740741</td>\n      <td>37.120370</td>\n      <td>40.262963</td>\n      <td>51232.90741</td>\n      <td>25949.35185</td>\n      <td>1260.833333</td>\n      <td>243279.6296</td>\n      <td>25.760268</td>\n      <td>-80.298511</td>\n    </tr>\n  </tbody>\n</table>\n<p>5 rows × 31 columns</p>\n</div>",
            "text/plain": "         CityState         city state  Population  White Population  \\\n0      HOUSTON, TX      HOUSTON    TX     3061887           1775897   \n1      CHICAGO, IL      CHICAGO    IL     2702091           1318869   \n2     BROOKLYN, NY     BROOKLYN    NY     2595259           1126111   \n3  LOS ANGELES, CA  LOS ANGELES    CA     2426413           1068202   \n4        MIAMI, FL        MIAMI    FL     1820704           1361009   \n\n   Black Population  Native American Population  Asian Population  \\\n0            684416                       11586            230549   \n1            843633                        7554            161478   \n2            870465                        8744            297890   \n3            324842                       15949            273829   \n4            363514                        2250             33144   \n\n   Hispanic Population  Education None  ...  \\\n0              1368287           54180  ...   \n1               785374           32800  ...   \n2               509243           48934  ...   \n3              1292382           62684  ...   \n4              1162711           27137  ...   \n\n   Employment Female Computer Engineering  Median Age  Median Male Age  \\\n0                                   22637   33.439583        32.550000   \n1                                   18209   34.526786        33.798214   \n2                                   14845   35.175676        33.367568   \n3                                   12329   35.335484        34.535484   \n4                                    6969   38.740741        37.120370   \n\n   Median Female Age  Household Income  Income Per Capita  Median Gross Rent  \\\n0          34.363542       56206.50000        32239.52083         956.708333   \n1          35.141071       57735.96429        38730.83929        1119.928571   \n2          36.578378       51469.18919        28309.67568        1261.783784   \n3          36.061290       47494.58333        30073.19355        1201.766667   \n4          40.262963       51232.90741        25949.35185        1260.833333   \n\n   Median Home Value        lat         lng  \n0        178233.6842  29.775734  -95.414548  \n1        264739.2857  41.867838  -87.673440  \n2        605743.2432  40.652805  -73.956528  \n3        557115.0000  34.042209 -118.303468  \n4        243279.6296  25.760268  -80.298511  \n\n[5 rows x 31 columns]"
          },
          "metadata": {}
        }
      ],
      "execution_count": 3,
      "metadata": {}
    },
    {
      "cell_type": "code",
      "source": [
        "filtered_data = census_data_df[census_data_df['Population'] >= 100000].sort_values(by='Median Age')\n",
        "filtered_data.head()"
      ],
      "outputs": [
        {
          "output_type": "execute_result",
          "execution_count": 4,
          "data": {
            "text/html": "<div>\n<style scoped>\n    .dataframe tbody tr th:only-of-type {\n        vertical-align: middle;\n    }\n\n    .dataframe tbody tr th {\n        vertical-align: top;\n    }\n\n    .dataframe thead th {\n        text-align: right;\n    }\n</style>\n<table border=\"1\" class=\"dataframe\">\n  <thead>\n    <tr style=\"text-align: right;\">\n      <th></th>\n      <th>CityState</th>\n      <th>city</th>\n      <th>state</th>\n      <th>Population</th>\n      <th>White Population</th>\n      <th>Black Population</th>\n      <th>Native American Population</th>\n      <th>Asian Population</th>\n      <th>Hispanic Population</th>\n      <th>Education None</th>\n      <th>...</th>\n      <th>Employment Female Computer Engineering</th>\n      <th>Median Age</th>\n      <th>Median Male Age</th>\n      <th>Median Female Age</th>\n      <th>Household Income</th>\n      <th>Income Per Capita</th>\n      <th>Median Gross Rent</th>\n      <th>Median Home Value</th>\n      <th>lat</th>\n      <th>lng</th>\n    </tr>\n  </thead>\n  <tbody>\n    <tr>\n      <th>357</th>\n      <td>PROVO, UT</td>\n      <td>PROVO</td>\n      <td>UT</td>\n      <td>115828</td>\n      <td>102237</td>\n      <td>715</td>\n      <td>511</td>\n      <td>3029</td>\n      <td>19980</td>\n      <td>511</td>\n      <td>...</td>\n      <td>623</td>\n      <td>23.833333</td>\n      <td>24.266667</td>\n      <td>23.266667</td>\n      <td>41659.33333</td>\n      <td>17196.00000</td>\n      <td>754.333333</td>\n      <td>206733.3333</td>\n      <td>40.253223</td>\n      <td>-111.633250</td>\n    </tr>\n    <tr>\n      <th>337</th>\n      <td>ATHENS, GA</td>\n      <td>ATHENS</td>\n      <td>GA</td>\n      <td>120952</td>\n      <td>79691</td>\n      <td>31036</td>\n      <td>229</td>\n      <td>5350</td>\n      <td>12845</td>\n      <td>919</td>\n      <td>...</td>\n      <td>1079</td>\n      <td>25.316667</td>\n      <td>24.600000</td>\n      <td>26.050000</td>\n      <td>34224.25000</td>\n      <td>13672.66667</td>\n      <td>769.000000</td>\n      <td>143325.0000</td>\n      <td>33.958987</td>\n      <td>-83.383005</td>\n    </tr>\n    <tr>\n      <th>301</th>\n      <td>BLOOMINGTON, IN</td>\n      <td>BLOOMINGTON</td>\n      <td>IN</td>\n      <td>130817</td>\n      <td>112800</td>\n      <td>4066</td>\n      <td>534</td>\n      <td>8715</td>\n      <td>4237</td>\n      <td>399</td>\n      <td>...</td>\n      <td>805</td>\n      <td>25.883333</td>\n      <td>25.433333</td>\n      <td>26.400000</td>\n      <td>39554.00000</td>\n      <td>17150.00000</td>\n      <td>834.250000</td>\n      <td>167000.0000</td>\n      <td>39.163813</td>\n      <td>-86.524614</td>\n    </tr>\n    <tr>\n      <th>376</th>\n      <td>COLLEGE STATION, TX</td>\n      <td>COLLEGE STATION</td>\n      <td>TX</td>\n      <td>112074</td>\n      <td>89674</td>\n      <td>7634</td>\n      <td>244</td>\n      <td>9757</td>\n      <td>16374</td>\n      <td>333</td>\n      <td>...</td>\n      <td>1108</td>\n      <td>25.900000</td>\n      <td>25.150000</td>\n      <td>26.750000</td>\n      <td>45896.00000</td>\n      <td>23598.00000</td>\n      <td>985.500000</td>\n      <td>180150.0000</td>\n      <td>30.585239</td>\n      <td>-96.299284</td>\n    </tr>\n    <tr>\n      <th>260</th>\n      <td>COLUMBIA, MO</td>\n      <td>COLUMBIA</td>\n      <td>MO</td>\n      <td>146510</td>\n      <td>116562</td>\n      <td>14311</td>\n      <td>351</td>\n      <td>6818</td>\n      <td>5310</td>\n      <td>500</td>\n      <td>...</td>\n      <td>1522</td>\n      <td>26.925000</td>\n      <td>26.575000</td>\n      <td>27.250000</td>\n      <td>45988.33333</td>\n      <td>20099.25000</td>\n      <td>801.666667</td>\n      <td>170500.0000</td>\n      <td>38.939703</td>\n      <td>-92.313594</td>\n    </tr>\n  </tbody>\n</table>\n<p>5 rows × 31 columns</p>\n</div>",
            "text/plain": "               CityState             city state  Population  White Population  \\\n357            PROVO, UT            PROVO    UT      115828            102237   \n337           ATHENS, GA           ATHENS    GA      120952             79691   \n301      BLOOMINGTON, IN      BLOOMINGTON    IN      130817            112800   \n376  COLLEGE STATION, TX  COLLEGE STATION    TX      112074             89674   \n260         COLUMBIA, MO         COLUMBIA    MO      146510            116562   \n\n     Black Population  Native American Population  Asian Population  \\\n357               715                         511              3029   \n337             31036                         229              5350   \n301              4066                         534              8715   \n376              7634                         244              9757   \n260             14311                         351              6818   \n\n     Hispanic Population  Education None  ...  \\\n357                19980             511  ...   \n337                12845             919  ...   \n301                 4237             399  ...   \n376                16374             333  ...   \n260                 5310             500  ...   \n\n     Employment Female Computer Engineering  Median Age  Median Male Age  \\\n357                                     623   23.833333        24.266667   \n337                                    1079   25.316667        24.600000   \n301                                     805   25.883333        25.433333   \n376                                    1108   25.900000        25.150000   \n260                                    1522   26.925000        26.575000   \n\n     Median Female Age  Household Income  Income Per Capita  \\\n357          23.266667       41659.33333        17196.00000   \n337          26.050000       34224.25000        13672.66667   \n301          26.400000       39554.00000        17150.00000   \n376          26.750000       45896.00000        23598.00000   \n260          27.250000       45988.33333        20099.25000   \n\n     Median Gross Rent  Median Home Value        lat         lng  \n357         754.333333        206733.3333  40.253223 -111.633250  \n337         769.000000        143325.0000  33.958987  -83.383005  \n301         834.250000        167000.0000  39.163813  -86.524614  \n376         985.500000        180150.0000  30.585239  -96.299284  \n260         801.666667        170500.0000  38.939703  -92.313594  \n\n[5 rows x 31 columns]"
          },
          "metadata": {}
        }
      ],
      "execution_count": 4,
      "metadata": {}
    },
    {
      "cell_type": "code",
      "source": [],
      "outputs": [],
      "execution_count": null,
      "metadata": {}
    }
  ],
  "metadata": {
    "kernelspec": {
      "display_name": "PythonData",
      "language": "python",
      "name": "pythondata"
    },
    "language_info": {
      "codemirror_mode": {
        "name": "ipython",
        "version": 3
      },
      "file_extension": ".py",
      "mimetype": "text/x-python",
      "name": "python",
      "nbconvert_exporter": "python",
      "pygments_lexer": "ipython3",
      "version": "3.7.7"
    },
    "nteract": {
      "version": "0.28.0"
    }
  },
  "nbformat": 4,
  "nbformat_minor": 4
}